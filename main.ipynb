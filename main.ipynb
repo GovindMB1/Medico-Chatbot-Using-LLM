{
 "cells": [
  {
   "cell_type": "code",
   "execution_count": 1,
   "metadata": {},
   "outputs": [
    {
     "name": "stderr",
     "output_type": "stream",
     "text": [
      "e:\\medico\\lib\\site-packages\\tqdm\\auto.py:21: TqdmWarning: IProgress not found. Please update jupyter and ipywidgets. See https://ipywidgets.readthedocs.io/en/stable/user_install.html\n",
      "  from .autonotebook import tqdm as notebook_tqdm\n"
     ]
    }
   ],
   "source": [
    "from langchain import PromptTemplate\n",
    "from langchain_community.llms import LlamaCpp\n",
    "from langchain.chains import ConversationalRetrievalChain\n",
    "from langchain_community.embeddings import SentenceTransformerEmbeddings\n",
    "from qdrant_client import QdrantClient\n",
    "from langchain_community.vectorstores import Qdrant\n",
    "import gradio as gr"
   ]
  },
  {
   "cell_type": "code",
   "execution_count": 2,
   "metadata": {},
   "outputs": [],
   "source": [
    "# Set the model name\n",
    "MODEL_NAME = \"Medico\"\n",
    "\n",
    "# Initialize LLM with optimized parameters\n",
    "local_llm = \"BioMistral-7B.Q4_K_M.gguf\"\n",
    "llm = LlamaCpp(\n",
    "    model_path=local_llm,\n",
    "    temperature=0.3,\n",
    "    max_tokens=2048,  # Reduced from 2048\n",
    "    top_p=1,\n",
    "    n_ctx=1024,  # Reduced from 2048\n",
    "    n_batch=512,  # Added batch size for faster processing\n",
    "    f16_kv=True,  # Use half-precision for key/value cache\n",
    "    verbose=False  # Disable verbose output for speed\n",
    ")"
   ]
  },
  {
   "cell_type": "code",
   "execution_count": 3,
   "metadata": {},
   "outputs": [],
   "source": [
    "# Optimize embeddings\n",
    "embeddings = SentenceTransformerEmbeddings(model_name=\"NeuML/pubmedbert-base-embeddings\")\n"
   ]
  },
  {
   "cell_type": "code",
   "execution_count": 4,
   "metadata": {},
   "outputs": [],
   "source": [
    "# Initialize Qdrant client and database\n",
    "url = \"http://localhost:6333\"\n",
    "client = QdrantClient(url=url, prefer_grpc=True)  # Changed to prefer gRPC for faster communication\n",
    "db = Qdrant(client=client, embeddings=embeddings, collection_name=\"vector_db\")\n",
    "retriever = db.as_retriever(search_kwargs={\"k\": 1})\n"
   ]
  },
  {
   "cell_type": "code",
   "execution_count": 5,
   "metadata": {},
   "outputs": [],
   "source": [
    "# Initialize conversation chain\n",
    "chain = ConversationalRetrievalChain.from_llm(llm=llm, retriever=retriever)"
   ]
  },
  {
   "cell_type": "code",
   "execution_count": 6,
   "metadata": {},
   "outputs": [],
   "source": [
    "# Updated prompt template\n",
    "prompt_template = f\"\"\"You are {MODEL_NAME}, an AI assistant specialized in biomedical knowledge. \n",
    "Use the following information to answer the user's question. If you don't know the answer, say so honestly.\n",
    "\n",
    "Chat History: {{chat_history}}\n",
    "Question: {{question}}\n",
    "\n",
    "Provide a concise, well-explained answer:\n",
    "\"\"\""
   ]
  },
  {
   "cell_type": "code",
   "execution_count": 7,
   "metadata": {},
   "outputs": [],
   "source": [
    "prompt = PromptTemplate(template=prompt_template, input_variables=[\"chat_history\", \"question\"])\n"
   ]
  },
  {
   "cell_type": "code",
   "execution_count": 8,
   "metadata": {},
   "outputs": [
    {
     "name": "stdout",
     "output_type": "stream",
     "text": [
      "Running on local URL:  http://127.0.0.1:7860\n",
      "\n",
      "To create a public link, set `share=True` in `launch()`.\n"
     ]
    },
    {
     "data": {
      "text/html": [
       "<div><iframe src=\"http://127.0.0.1:7860/\" width=\"100%\" height=\"500\" allow=\"autoplay; camera; microphone; clipboard-read; clipboard-write;\" frameborder=\"0\" allowfullscreen></iframe></div>"
      ],
      "text/plain": [
       "<IPython.core.display.HTML object>"
      ]
     },
     "metadata": {},
     "output_type": "display_data"
    },
    {
     "data": {
      "text/plain": []
     },
     "execution_count": 8,
     "metadata": {},
     "output_type": "execute_result"
    },
    {
     "name": "stderr",
     "output_type": "stream",
     "text": [
      "e:\\medico\\lib\\site-packages\\langchain_core\\_api\\deprecation.py:139: LangChainDeprecationWarning: The method `Chain.__call__` was deprecated in langchain 0.1.0 and will be removed in 0.3.0. Use invoke instead.\n",
      "  warn_deprecated(\n"
     ]
    },
    {
     "name": "stdout",
     "output_type": "stream",
     "text": [
      "Name asked. Responding with: My name is Medico. I'm an AI assistant specialized in biomedical knowledge. How can I help you today?\n"
     ]
    }
   ],
   "source": [
    "chat_history = []\n",
    "\n",
    "def predict(message, history):\n",
    "    if any(phrase in message.lower() for phrase in [\"what's your name\", \"what is your name\", \"who are you\", \"your name\"]):\n",
    "        response = f\"My name is {MODEL_NAME}. I'm an AI assistant specialized in biomedical knowledge. How can I help you today?\"\n",
    "        print(f\"Name asked. Responding with: {response}\")  # Debug print\n",
    "        return response\n",
    "\n",
    "    # Process the message\n",
    "    response = chain({\"question\": message, \"chat_history\": chat_history})\n",
    "    answer = response['answer']\n",
    "\n",
    "    # Update chat history\n",
    "    chat_history.append((message, answer))\n",
    "\n",
    "    return answer\n",
    "\n",
    "# Create a chat interface using Gradio\n",
    "gr.ChatInterface(\n",
    "    predict,\n",
    "    title=f\"Chat with {MODEL_NAME}\",\n",
    "    description=\"I'm an AI assistant specialized in biomedical knowledge. Ask me anything!\",\n",
    ").launch()"
   ]
  },
  {
   "cell_type": "code",
   "execution_count": null,
   "metadata": {},
   "outputs": [],
   "source": []
  }
 ],
 "metadata": {
  "kernelspec": {
   "display_name": "medico",
   "language": "python",
   "name": "python3"
  },
  "language_info": {
   "codemirror_mode": {
    "name": "ipython",
    "version": 3
   },
   "file_extension": ".py",
   "mimetype": "text/x-python",
   "name": "python",
   "nbconvert_exporter": "python",
   "pygments_lexer": "ipython3",
   "version": "3.10.4"
  }
 },
 "nbformat": 4,
 "nbformat_minor": 2
}
